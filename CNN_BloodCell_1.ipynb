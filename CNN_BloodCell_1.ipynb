{
 "cells": [
  {
   "cell_type": "markdown",
   "source": [
    "Whole notebook has been run on Google colab pro\n",
    "created by: Michał Chrzanowski\n",
    "\n",
    "important note, if model stucks at around 25% accuracy restart whole model and calculate again"
   ],
   "metadata": {
    "collapsed": false,
    "pycharm": {
     "name": "#%% md\n"
    }
   }
  },
  {
   "cell_type": "code",
   "execution_count": 1,
   "metadata": {
    "id": "vTucYHtcAzU6",
    "colab": {
     "base_uri": "https://localhost:8080/"
    },
    "outputId": "4c85a5c0-d816-45ea-f91b-bda07a972a8c",
    "pycharm": {
     "name": "#%%\n"
    }
   },
   "outputs": [
    {
     "output_type": "stream",
     "name": "stdout",
     "text": [
      "No LSB modules are available.\n",
      "Distributor ID:\tUbuntu\n",
      "Description:\tUbuntu 18.04.6 LTS\n",
      "Release:\t18.04\n",
      "Codename:\tbionic\n",
      "processor\t: 0\n",
      "vendor_id\t: GenuineIntel\n",
      "cpu family\t: 6\n",
      "model\t\t: 79\n",
      "model name\t: Intel(R) Xeon(R) CPU @ 2.20GHz\n",
      "stepping\t: 0\n",
      "microcode\t: 0x1\n",
      "cpu MHz\t\t: 2199.998\n",
      "cache size\t: 56320 KB\n",
      "physical id\t: 0\n",
      "siblings\t: 2\n",
      "core id\t\t: 0\n",
      "cpu cores\t: 1\n",
      "apicid\t\t: 0\n",
      "initial apicid\t: 0\n",
      "fpu\t\t: yes\n",
      "fpu_exception\t: yes\n",
      "cpuid level\t: 13\n",
      "wp\t\t: yes\n",
      "flags\t\t: fpu vme de pse tsc msr pae mce cx8 apic sep mtrr pge mca cmov pat pse36 clflush mmx fxsr sse sse2 ss ht syscall nx pdpe1gb rdtscp lm constant_tsc rep_good nopl xtopology nonstop_tsc cpuid tsc_known_freq pni pclmulqdq ssse3 fma cx16 pcid sse4_1 sse4_2 x2apic movbe popcnt aes xsave avx f16c rdrand hypervisor lahf_lm abm 3dnowprefetch invpcid_single ssbd ibrs ibpb stibp fsgsbase tsc_adjust bmi1 hle avx2 smep bmi2 erms invpcid rtm rdseed adx smap xsaveopt arat md_clear arch_capabilities\n",
      "bugs\t\t: cpu_meltdown spectre_v1 spectre_v2 spec_store_bypass l1tf mds swapgs taa mmio_stale_data retbleed\n",
      "bogomips\t: 4399.99\n",
      "clflush size\t: 64\n",
      "cache_alignment\t: 64\n",
      "address sizes\t: 46 bits physical, 48 bits virtual\n",
      "power management:\n",
      "\n",
      "processor\t: 1\n",
      "vendor_id\t: GenuineIntel\n",
      "cpu family\t: 6\n",
      "model\t\t: 79\n",
      "model name\t: Intel(R) Xeon(R) CPU @ 2.20GHz\n",
      "stepping\t: 0\n",
      "microcode\t: 0x1\n",
      "cpu MHz\t\t: 2199.998\n",
      "cache size\t: 56320 KB\n",
      "physical id\t: 0\n",
      "siblings\t: 2\n",
      "core id\t\t: 0\n",
      "cpu cores\t: 1\n",
      "apicid\t\t: 1\n",
      "initial apicid\t: 1\n",
      "fpu\t\t: yes\n",
      "fpu_exception\t: yes\n",
      "cpuid level\t: 13\n",
      "wp\t\t: yes\n",
      "flags\t\t: fpu vme de pse tsc msr pae mce cx8 apic sep mtrr pge mca cmov pat pse36 clflush mmx fxsr sse sse2 ss ht syscall nx pdpe1gb rdtscp lm constant_tsc rep_good nopl xtopology nonstop_tsc cpuid tsc_known_freq pni pclmulqdq ssse3 fma cx16 pcid sse4_1 sse4_2 x2apic movbe popcnt aes xsave avx f16c rdrand hypervisor lahf_lm abm 3dnowprefetch invpcid_single ssbd ibrs ibpb stibp fsgsbase tsc_adjust bmi1 hle avx2 smep bmi2 erms invpcid rtm rdseed adx smap xsaveopt arat md_clear arch_capabilities\n",
      "bugs\t\t: cpu_meltdown spectre_v1 spectre_v2 spec_store_bypass l1tf mds swapgs taa mmio_stale_data retbleed\n",
      "bogomips\t: 4399.99\n",
      "clflush size\t: 64\n",
      "cache_alignment\t: 64\n",
      "address sizes\t: 46 bits physical, 48 bits virtual\n",
      "power management:\n",
      "\n",
      "Filesystem      Size  Used Avail Use% Mounted on\n",
      "overlay         167G   39G  129G  23% /\n",
      "tmpfs            64M     0   64M   0% /dev\n",
      "shm             5.7G     0  5.7G   0% /dev/shm\n",
      "/dev/root       2.0G  1.1G  910M  54% /sbin/docker-init\n",
      "tmpfs           6.4G   48K  6.4G   1% /var/colab\n",
      "/dev/sda1       174G   40G  134G  23% /opt/bin/.nvidia\n",
      "tmpfs           6.4G     0  6.4G   0% /proc/acpi\n",
      "tmpfs           6.4G     0  6.4G   0% /proc/scsi\n",
      "tmpfs           6.4G     0  6.4G   0% /sys/firmware\n",
      "drive            15G  2.9G   13G  19% /content/drive\n",
      "MemTotal:       13297228 kB\n",
      "MemFree:         8169772 kB\n",
      "MemAvailable:   12013640 kB\n",
      "Buffers:          169044 kB\n",
      "Cached:          3670040 kB\n",
      "SwapCached:            0 kB\n",
      "Active:          1679104 kB\n",
      "Inactive:        2979896 kB\n",
      "Active(anon):       5340 kB\n",
      "Inactive(anon):   770800 kB\n",
      "Active(file):    1673764 kB\n",
      "Inactive(file):  2209096 kB\n",
      "Unevictable:           0 kB\n",
      "Mlocked:               0 kB\n",
      "SwapTotal:             0 kB\n",
      "SwapFree:              0 kB\n",
      "Dirty:              1628 kB\n",
      "Writeback:             0 kB\n",
      "AnonPages:        819876 kB\n",
      "Mapped:           274748 kB\n",
      "Shmem:              1304 kB\n",
      "KReclaimable:     286932 kB\n",
      "Slab:             345296 kB\n",
      "SReclaimable:     286932 kB\n",
      "SUnreclaim:        58364 kB\n",
      "KernelStack:       21632 kB\n",
      "PageTables:         9532 kB\n",
      "NFS_Unstable:          0 kB\n",
      "Bounce:                0 kB\n",
      "WritebackTmp:          0 kB\n",
      "CommitLimit:     6648612 kB\n",
      "Committed_AS:    4214828 kB\n",
      "VmallocTotal:   34359738367 kB\n",
      "VmallocUsed:       66240 kB\n",
      "VmallocChunk:          0 kB\n",
      "Percpu:             1416 kB\n",
      "HardwareCorrupted:     0 kB\n",
      "AnonHugePages:         0 kB\n",
      "ShmemHugePages:        0 kB\n",
      "ShmemPmdMapped:        0 kB\n",
      "FileHugePages:         0 kB\n",
      "FilePmdMapped:         0 kB\n",
      "CmaTotal:              0 kB\n",
      "CmaFree:               0 kB\n",
      "HugePages_Total:       0\n",
      "HugePages_Free:        0\n",
      "HugePages_Rsvd:        0\n",
      "HugePages_Surp:        0\n",
      "Hugepagesize:       2048 kB\n",
      "Hugetlb:               0 kB\n",
      "DirectMap4k:      467776 kB\n",
      "DirectMap2M:    12111872 kB\n",
      "DirectMap1G:     3145728 kB\n",
      "Reading package lists... Done\n",
      "Building dependency tree       \n",
      "Reading state information... Done\n",
      "The following package was automatically installed and is no longer required:\n",
      "  libnvidia-common-460\n",
      "Use 'sudo apt autoremove' to remove it.\n",
      "The following additional packages will be installed:\n",
      "  python-pkg-resources python3-pkg-resources\n",
      "Suggested packages:\n",
      "  python-setuptools python3-setuptools\n",
      "The following NEW packages will be installed:\n",
      "  python-pkg-resources python3-pkg-resources speedtest-cli\n",
      "0 upgraded, 3 newly installed, 0 to remove and 20 not upgraded.\n",
      "Need to get 250 kB of archives.\n",
      "After this operation, 1,188 kB of additional disk space will be used.\n",
      "Get:1 http://archive.ubuntu.com/ubuntu bionic/main amd64 python-pkg-resources all 39.0.1-2 [128 kB]\n",
      "Get:2 http://archive.ubuntu.com/ubuntu bionic/main amd64 python3-pkg-resources all 39.0.1-2 [98.8 kB]\n",
      "Get:3 http://archive.ubuntu.com/ubuntu bionic-updates/universe amd64 speedtest-cli all 2.0.0-1ubuntu1 [22.9 kB]\n",
      "Fetched 250 kB in 1s (167 kB/s)\n",
      "debconf: unable to initialize frontend: Dialog\n",
      "debconf: (No usable dialog-like program is installed, so the dialog based frontend cannot be used. at /usr/share/perl5/Debconf/FrontEnd/Dialog.pm line 76, <> line 3.)\n",
      "debconf: falling back to frontend: Readline\n",
      "debconf: unable to initialize frontend: Readline\n",
      "debconf: (This frontend requires a controlling tty.)\n",
      "debconf: falling back to frontend: Teletype\n",
      "dpkg-preconfigure: unable to re-open stdin: \n",
      "Selecting previously unselected package python-pkg-resources.\n",
      "(Reading database ... 157604 files and directories currently installed.)\n",
      "Preparing to unpack .../python-pkg-resources_39.0.1-2_all.deb ...\n",
      "Unpacking python-pkg-resources (39.0.1-2) ...\n",
      "Selecting previously unselected package python3-pkg-resources.\n",
      "Preparing to unpack .../python3-pkg-resources_39.0.1-2_all.deb ...\n",
      "Unpacking python3-pkg-resources (39.0.1-2) ...\n",
      "Selecting previously unselected package speedtest-cli.\n",
      "Preparing to unpack .../speedtest-cli_2.0.0-1ubuntu1_all.deb ...\n",
      "Unpacking speedtest-cli (2.0.0-1ubuntu1) ...\n",
      "Setting up python3-pkg-resources (39.0.1-2) ...\n",
      "Setting up python-pkg-resources (39.0.1-2) ...\n",
      "Setting up speedtest-cli (2.0.0-1ubuntu1) ...\n",
      "Processing triggers for man-db (2.8.3-2ubuntu0.1) ...\n",
      "Retrieving speedtest.net configuration...\n",
      "Testing from Google (34.142.137.238)...\n",
      "Retrieving speedtest.net server list...\n",
      "Selecting best server based on ping...\n",
      "Hosted by fdcservers.net (Singapore) [15137.42 km]: 5.571 ms\n",
      "Testing download speed................................................................................\n",
      "Download: 2503.46 Mbit/s\n",
      "Testing upload speed......................................................................................................\n",
      "Upload: 4.16 Mbit/s\n"
     ]
    }
   ],
   "source": [
    "!lsb_release -a #Linux info\n",
    "!cat /proc/cpuinfo # CPU info\n",
    "!df -h #disc info\n",
    "!cat /proc/meminfo #RAM info\n",
    "!sudo apt install speedtest-cli #library for speedtesting\n",
    "!speedtest-cli # network speed test"
   ]
  },
  {
   "cell_type": "code",
   "execution_count": 2,
   "metadata": {
    "colab": {
     "base_uri": "https://localhost:8080/"
    },
    "id": "ZkAHGr3iBN8t",
    "outputId": "ce2906fd-61fb-4d88-c65e-931052d43cd8",
    "pycharm": {
     "name": "#%%\n"
    }
   },
   "outputs": [
    {
     "output_type": "stream",
     "name": "stdout",
     "text": [
      "Mon Sep 26 13:12:27 2022       \n",
      "+-----------------------------------------------------------------------------+\n",
      "| NVIDIA-SMI 460.32.03    Driver Version: 460.32.03    CUDA Version: 11.2     |\n",
      "|-------------------------------+----------------------+----------------------+\n",
      "| GPU  Name        Persistence-M| Bus-Id        Disp.A | Volatile Uncorr. ECC |\n",
      "| Fan  Temp  Perf  Pwr:Usage/Cap|         Memory-Usage | GPU-Util  Compute M. |\n",
      "|                               |                      |               MIG M. |\n",
      "|===============================+======================+======================|\n",
      "|   0  Tesla T4            Off  | 00000000:00:04.0 Off |                    0 |\n",
      "| N/A   69C    P8    11W /  70W |      0MiB / 15109MiB |      0%      Default |\n",
      "|                               |                      |                  N/A |\n",
      "+-------------------------------+----------------------+----------------------+\n",
      "                                                                               \n",
      "+-----------------------------------------------------------------------------+\n",
      "| Processes:                                                                  |\n",
      "|  GPU   GI   CI        PID   Type   Process name                  GPU Memory |\n",
      "|        ID   ID                                                   Usage      |\n",
      "|=============================================================================|\n",
      "|  No running processes found                                                 |\n",
      "+-----------------------------------------------------------------------------+\n"
     ]
    }
   ],
   "source": [
    "!nvidia-smi #GPU info"
   ]
  },
  {
   "cell_type": "code",
   "execution_count": null,
   "metadata": {
    "colab": {
     "base_uri": "https://localhost:8080/"
    },
    "id": "g0x0-BEFBYx8",
    "outputId": "f204c58e-66e7-40fb-a406-94792251ce7b",
    "pycharm": {
     "name": "#%%\n",
     "is_executing": true
    }
   },
   "outputs": [],
   "source": [
    "# I decided to use external plotting service Weights and biases. It provides easy live preview of model state and  allows convenient runs comparasion\n",
    "!pip install wandb\n",
    "!wandb login 33cccacf373072ab6a5edc82d4770dddf40d42fb\n",
    "import wandb\n",
    "\n",
    "#mount google drive\n",
    "from google.colab import drive\n",
    "drive.mount('/content/drive')\n",
    "#copy data from Google drive to internal machine drive for faster loading\n",
    "google_path = \"/content/drive/MyDrive/CNN_Data\"\n",
    "train_path = \"/content/data\"\n",
    "!cp -R \"$google_path\" $train_path"
   ]
  },
  {
   "cell_type": "code",
   "execution_count": 2,
   "metadata": {
    "colab": {
     "base_uri": "https://localhost:8080/"
    },
    "id": "NGTvVH2x63y2",
    "outputId": "9ee3856e-bae3-4299-badb-8dff57881689",
    "pycharm": {
     "name": "#%%\n"
    }
   },
   "outputs": [
    {
     "output_type": "stream",
     "name": "stdout",
     "text": [
      "allocated CUDA memory:  0\n",
      "cached CUDA memory:  0\n"
     ]
    },
    {
     "output_type": "stream",
     "name": "stderr",
     "text": [
      "/usr/local/lib/python3.7/dist-packages/torch/cuda/memory.py:393: FutureWarning: torch.cuda.memory_cached has been renamed to torch.cuda.memory_reserved\n",
      "  FutureWarning)\n"
     ]
    }
   ],
   "source": [
    "# Imports\n",
    "import time\n",
    "import torch\n",
    "import torchvision  # torch package for vision related things\n",
    "import torch.nn.functional as F  # Parameterless functions, like (some) activation functions\n",
    "import torchvision.transforms as transforms  # Transformations and augmentations\n",
    "from torch import optim  # For optimizers\n",
    "from torch import nn  # All neural network modules\n",
    "from torch.utils.data import DataLoader #Dataloader module\n",
    "from torch.utils.data import Dataset # Dataset module\n",
    "import torchvision.transforms as transforms\n",
    "from tqdm import tqdm #nice progress bar\n",
    "import panads as pd\n",
    "import numpy as np\n",
    "\n",
    "# Libraries for dataloader\n",
    "from os import listdir\n",
    "from os.path import isfile, join\n",
    "from PIL import Image\n",
    "#Checking whether GPU RAM is empty\n",
    "print('allocated CUDA memory: ',torch.cuda.memory_allocated())\n",
    "print('cached CUDA memory: ',torch.cuda.memory_cached())"
   ]
  },
  {
   "cell_type": "code",
   "execution_count": 3,
   "metadata": {
    "id": "ETIz7k-CqFE0",
    "pycharm": {
     "name": "#%%\n"
    }
   },
   "outputs": [],
   "source": [
    "# image processing of images. In the end i decided not to use it in this model\n",
    "import matplotlib.pyplot as plt\n",
    "from skimage.io import imshow, imread\n",
    "from skimage.color import rgb2hsv, hsv2rgb\n",
    "import cv2\n",
    "def color_isolate(image):\n",
    "    image = cv2.cvtColor(image, cv2.COLOR_BGR2HSV)\n",
    "    image_hsv = rgb2hsv(image[:,:,:3])   \n",
    "    #MASK\n",
    "    mask_1 = image_hsv [:,:,0] > 200/360\n",
    "    mask_2 = image_hsv [:,:,0] < 280/360\n",
    "    saturation_1 = image_hsv [:,:,1] > 0.35\n",
    "    saturation_2 = image_hsv [:,:,1] < 0.70\n",
    "    \n",
    "    mask= mask_1*mask_1*saturation_1*saturation_2\n",
    "\n",
    "    image_filtered = np.dstack((image[:,:,0]*mask,\n",
    "                                image[:,:,1]*mask,\n",
    "                                image[:,:,2]*mask))\n",
    "\n",
    "    return image_filtered"
   ]
  },
  {
   "cell_type": "code",
   "execution_count": 60,
   "metadata": {
    "id": "MEoHkZFK7f_b",
    "pycharm": {
     "name": "#%%\n"
    }
   },
   "outputs": [],
   "source": [
    "# DATALOADERS\n",
    "\n",
    "# Train Loader\n",
    "class BloodCell_train(Dataset):\n",
    "    def __init__(self, transform):\n",
    "        self.labels = []\n",
    "        self.dirName_1 = '/content/data/Blood_Cell_Images/dataset2-master/dataset2-master/images/TRAIN/EOSINOPHIL' # path to training data with EOSINOPHILS cells\n",
    "        self.dirName_2 = '/content/data/Blood_Cell_Images/dataset2-master/dataset2-master/images/TRAIN/LYMPHOCYTE' # path to training data with LYMPHOCYTES cells\n",
    "        self.dirName_3 = '/content/data/Blood_Cell_Images/dataset2-master/dataset2-master/images/TRAIN/MONOCYTE' # path to training data with MONOCYTES cells\n",
    "        self.dirName_4 = '/content/data/Blood_Cell_Images/dataset2-master/dataset2-master/images/TRAIN/NEUTROPHIL' # path to training data with NEUTROPHILS cells\n",
    "        self.files_names = []\n",
    "        self.transform = transform\n",
    "        self.load_images()\n",
    "    \n",
    "\n",
    "    def load_images(self):\n",
    "\n",
    "        # create list of paths to images\n",
    "        files_1 = [join(self.dirName_1, f) for f in listdir(self.dirName_1) if isfile(join(self.dirName_1, f))]\n",
    "        files_2 = [join(self.dirName_2, f) for f in listdir(self.dirName_2) if isfile(join(self.dirName_2, f))]\n",
    "        files_3 = [join(self.dirName_3, f) for f in listdir(self.dirName_3) if isfile(join(self.dirName_3, f))]\n",
    "        files_4 = [join(self.dirName_4, f) for f in listdir(self.dirName_4) if isfile(join(self.dirName_4, f))]\n",
    "        \n",
    "\n",
    "        # connect lists of different cells in one big list\n",
    "        self.files_names = files_1 + files_2 + files_3 + files_4\n",
    "\n",
    "        # creating label list\n",
    "        for file_name in tqdm(files_1):\n",
    "            self.labels.append(0)\n",
    "\n",
    "        for file_name in tqdm(files_2):\n",
    "            self.labels.append(1)\n",
    "\n",
    "        for file_name in tqdm(files_3):\n",
    "            self.labels.append(2)\n",
    "\n",
    "        for file_name in tqdm(files_4):\n",
    "            self.labels.append(3)\n",
    "\n",
    "        del files_1\n",
    "        del files_2\n",
    "        del files_3\n",
    "        del files_4\n",
    "\n",
    "    def __len__(self):\n",
    "        return len(self.labels)\n",
    "\n",
    "    def __getitem__(self, index):\n",
    "        image=cv2.imread(self.files_names[index])\n",
    "        #image = color_isolate(image.astype(np.float32))\n",
    "        y_label = self.labels[index]\n",
    "\n",
    "        if self.transform:\n",
    "            image = self.transform(image)\n",
    "\n",
    "        return (image, y_label)\n",
    "\n",
    "# Test Loader\n",
    "class BloodCell_test(Dataset):\n",
    "    def __init__(self, transform):\n",
    "        self.labels = []\n",
    "        self.dirName_1 = '/content/data/Blood_Cell_Images/dataset2-master/dataset2-master/images/TEST/EOSINOPHIL' # path to test data with EOSINOPHILS cells\n",
    "        self.dirName_2 = '/content/data/Blood_Cell_Images/dataset2-master/dataset2-master/images/TEST/LYMPHOCYTE' # path to test data with LYMPHOCYTES cells\n",
    "        self.dirName_3 = '/content/data/Blood_Cell_Images/dataset2-master/dataset2-master/images/TEST/MONOCYTE' # path to test data with MONOCYTES cells\n",
    "        self.dirName_4 = '/content/data/Blood_Cell_Images/dataset2-master/dataset2-master/images/TEST/NEUTROPHIL' # path to test data with NEUTROPHILS cells\n",
    "        self.files_names = []\n",
    "        self.transform = transform\n",
    "        self.load_images()\n",
    "        \n",
    "\n",
    "    def load_images(self):\n",
    "\n",
    "        # create list of paths to images\n",
    "        files_1 = [join(self.dirName_1, f) for f in listdir(self.dirName_1) if isfile(join(self.dirName_1, f))]\n",
    "        files_2 = [join(self.dirName_2, f) for f in listdir(self.dirName_2) if isfile(join(self.dirName_2, f))]\n",
    "        files_3 = [join(self.dirName_3, f) for f in listdir(self.dirName_3) if isfile(join(self.dirName_3, f))]\n",
    "        files_4 = [join(self.dirName_4, f) for f in listdir(self.dirName_4) if isfile(join(self.dirName_4, f))]\n",
    "        \n",
    "        # connect lists of different cells in one big list\n",
    "        self.files_names = files_1 + files_2 + files_3 + files_4\n",
    "\n",
    "        # creating label list\n",
    "        for file_name in tqdm(files_1):\n",
    "            self.labels.append(0)\n",
    "\n",
    "        for file_name in tqdm(files_2):\n",
    "            self.labels.append(1)\n",
    "\n",
    "        for file_name in tqdm(files_3):\n",
    "            self.labels.append(2)\n",
    "\n",
    "        for file_name in tqdm(files_4):\n",
    "            self.labels.append(3)\n",
    "\n",
    "        del files_1\n",
    "        del files_2\n",
    "        del files_3\n",
    "        del files_4\n",
    "        \n",
    "    def __len__(self):\n",
    "        return len(self.labels)\n",
    "\n",
    "    def __getitem__(self, index):\n",
    "        image=cv2.imread(self.files_names[index])\n",
    "        #image = color_isolate(image.astype(np.float32))\n",
    "        y_label = self.labels[index]\n",
    "\n",
    "        if self.transform:\n",
    "            image = self.transform(image)\n",
    "\n",
    "        return (image, y_label)\n"
   ]
  },
  {
   "cell_type": "code",
   "execution_count": 61,
   "outputs": [],
   "source": [
    "# model creation\n",
    "class CNN(nn.Module):\n",
    "    def __init__(self, in_channels, num_classes):\n",
    "        super(CNN, self).__init__()\n",
    "        self.conv1 = nn.Conv2d(\n",
    "            in_channels=in_channels,\n",
    "            out_channels=9,\n",
    "            kernel_size=(11, 11),\n",
    "            stride=(1, 1),\n",
    "            padding=(1,1),\n",
    "        )\n",
    "        self.conv2 = nn.Conv2d(\n",
    "            in_channels=9,\n",
    "            out_channels=27,\n",
    "            kernel_size=(7, 7),\n",
    "            stride=(1, 1),\n",
    "            padding=(0,0),\n",
    "        )\n",
    "        self.conv3 = nn.Conv2d(\n",
    "            in_channels=27,\n",
    "            out_channels=54,\n",
    "            kernel_size=(5, 5),\n",
    "            stride=(1, 1),\n",
    "            padding=(0,0),\n",
    "        )\n",
    "        self.conv4 = nn.Conv2d(\n",
    "            in_channels=54,\n",
    "            out_channels=54,\n",
    "            kernel_size=(5, 5),\n",
    "            stride=(1, 1),\n",
    "            padding=(1,1),\n",
    "        )\n",
    "        self.conv5 = nn.Conv2d(\n",
    "            in_channels=54,\n",
    "            out_channels=108,\n",
    "            kernel_size=(5, 5),\n",
    "            stride=(1, 1),\n",
    "            padding=(0,0),\n",
    "        )\n",
    "        self.conv6 = nn.Conv2d(\n",
    "            in_channels=108,\n",
    "            out_channels=108,\n",
    "            kernel_size=(3, 3),\n",
    "            stride=(1, 1),\n",
    "            padding=(0,0),\n",
    "        )\n",
    "        self.conv7 = nn.Conv2d(\n",
    "            in_channels=108,\n",
    "            out_channels=108,\n",
    "            kernel_size=(3, 3),\n",
    "            stride=(1, 1),\n",
    "            padding=(0,0),\n",
    "        )\n",
    "        self.conv8 = nn.Conv2d(\n",
    "            in_channels=108,\n",
    "            out_channels=108,\n",
    "            kernel_size=(3, 3),\n",
    "            stride=(1, 1),\n",
    "            padding=(0,0),\n",
    "        )\n",
    "\n",
    "        self.pool5 = nn.MaxPool2d(kernel_size=(5, 5), stride=(5, 5))\n",
    "        self.pool2 = nn.MaxPool2d(kernel_size=(2, 2), stride=(2, 2))\n",
    "        #self.drop1d = nn.Dropout(0.5)\n",
    "        self.BatchNorm2d1 = nn.BatchNorm2d(num_features=9)\n",
    "        self.BatchNorm2d3 = nn.BatchNorm2d(num_features=54)\n",
    "        self.fc1 = nn.Linear(41472, 5000)\n",
    "        self.fc2 = nn.Linear(5000, 5000)\n",
    "        self.fc3 = nn.Linear(5000, 5000)\n",
    "        self.fc4 = nn.Linear(5000, num_classes)\n",
    "\n",
    "    def forward(self, x):\n",
    "        x = F.relu(self.BatchNorm2d1(self.conv1(x)))\n",
    "        x = F.relu(self.conv2(x))\n",
    "        x = F.relu(self.BatchNorm2d3(self.conv3(x)))\n",
    "        x = F.relu(self.conv4(x))\n",
    "        x = self.pool5(x)\n",
    "        x = F.relu(self.conv5(x))\n",
    "        x = F.relu(self.conv6(x))\n",
    "        x = F.relu(self.conv7(x))\n",
    "        x = self.pool2(x)\n",
    "        x = F.relu(self.conv8(x))\n",
    "\n",
    "        x = x.reshape(x.shape[0], -1)\n",
    "\n",
    "        x = self.fc1(x)\n",
    "        #x = self.drop1d(x)\n",
    "        x = self.fc2(x)\n",
    "        #x = self.drop1d(x)\n",
    "        x = self.fc3(x)\n",
    "        #x = self.drop1d(x)\n",
    "        x = self.fc4(x)\n",
    "        return x"
   ],
   "metadata": {
    "collapsed": false,
    "pycharm": {
     "name": "#%%\n"
    }
   }
  },
  {
   "cell_type": "code",
   "execution_count": 6,
   "metadata": {
    "colab": {
     "base_uri": "https://localhost:8080/"
    },
    "id": "AA56kxVRIL6P",
    "outputId": "9e29048b-63b6-46ec-929c-91a50e6a04ff",
    "pycharm": {
     "name": "#%%\n"
    }
   },
   "outputs": [
    {
     "output_type": "stream",
     "name": "stdout",
     "text": [
      "232.0 312.0\n",
      "226.0 306.0\n",
      "222.0 302.0\n",
      "220.0 300.0\n",
      "44.0 60.0\n",
      "40.0 56.0\n",
      "38.0 54.0\n",
      "36.0 52.0\n",
      "18.0 26.0\n",
      "16.0 24.0\n"
     ]
    },
    {
     "output_type": "execute_result",
     "data": {
      "text/plain": [
       "41472.0"
      ]
     },
     "metadata": {},
     "execution_count": 6
    }
   ],
   "source": [
    "# calculate outputs shape of layers\n",
    "W=320\n",
    "H=240\n",
    "print('initial shape',W,H)\n",
    "#1st conv\n",
    "W=(W-11+2*1)/1+1\n",
    "H=(H-11+2*1)/1+1\n",
    "print('after 1st conv',W,H)\n",
    "# 2st conv\n",
    "W=(W-7+2*0)/1+1\n",
    "H=(H-7+2*0)/1+1\n",
    "print('after 2nd conv',W,H)\n",
    "# 3nd conv\n",
    "W=(W-5+2*0)/1+1\n",
    "H=(H-5+2*0)/1+1\n",
    "print('after 3rd conv',W,H)\n",
    "# 4nd conv#\n",
    "W=(W-5+2*1)/1+1\n",
    "H=(H-5+2*1)/1+1\n",
    "print('after 4th conv',W,H)\n",
    "# pool5\n",
    "W=W/5\n",
    "H=H/5\n",
    "print('after 1st pooling',W,H)\n",
    "# 5nd conv\n",
    "W=(W-5+2*0)/1+1\n",
    "H=(H-5+2*0)/1+1\n",
    "print('after 5th conv',W,H)\n",
    "# 6nd conv\n",
    "W=(W-3+2*0)/1+1\n",
    "H=(H-3+2*0)/1+1\n",
    "print('after 6th conv',W,H)\n",
    "# 7nd conv\n",
    "W=(W-3+2*0)/1+1\n",
    "H=(H-3+2*0)/1+1\n",
    "print('after 7th conv',W,H)\n",
    "# pool2\n",
    "W=W/2\n",
    "H=H/2\n",
    "print('after 2nd pooling',W,H)\n",
    "# 8nd conv\n",
    "W=(W-3+2*0)/1+1\n",
    "H=(H-3+2*0)/1+1\n",
    "print('after 8th conv',W,H)\n",
    "\n",
    "number_out_channels = 108\n",
    "print('Size of end output',H*W*number_out_channels)\n"
   ]
  },
  {
   "cell_type": "code",
   "execution_count": null,
   "outputs": [],
   "source": [
    "# can be omitted if mean and std is already calculated\n",
    "# for calcualting mean and std od dataset\n",
    "def get_mean_and_std(dataloader):\n",
    "    channels_sum, channels_squared_sum, num_batches = 0, 0, 0\n",
    "    for data, _ in dataloader:\n",
    "        # Mean over batch, height and width, but not over the channels\n",
    "        channels_sum += torch.mean(data, dim=[0,2,3])\n",
    "        channels_squared_sum += torch.mean(data**2, dim=[0,2,3])\n",
    "        num_batches += 1\n",
    "\n",
    "    mean = channels_sum / num_batches\n",
    "\n",
    "    # std = sqrt(E[X^2] - (E[X])^2)\n",
    "    std = (channels_squared_sum / num_batches - mean ** 2) ** 0.5\n",
    "\n",
    "    return mean, std\n",
    "\n",
    "#print(get_mean_and_std(train_loader))\n",
    "#print(get_mean_and_std(test_loader))"
   ],
   "metadata": {
    "collapsed": false,
    "pycharm": {
     "name": "#%%\n"
    }
   }
  },
  {
   "cell_type": "code",
   "execution_count": 70,
   "metadata": {
    "colab": {
     "base_uri": "https://localhost:8080/",
     "height": 589,
     "referenced_widgets": [
      "2870c565c8554e359f28ee42d533f638",
      "550333706bb24cc0bd94e8fb25da3f96",
      "06918c57cfc9455f857453d1eaa62460",
      "8e5608f60cc0448b96453490980e7ed3",
      "7c63ffa1a88c44d398ee41d48d7a3d60",
      "926910e2cdad4e8287eb296418df1244",
      "074e3d452cb747fda3ac0bae0f3dd691",
      "cbd978504c434b7eb4bcf59050c6af14"
     ]
    },
    "id": "8J5dzrruHsBe",
    "outputId": "15761216-ee3b-4f9d-ce31-f95794ebb15a",
    "pycharm": {
     "name": "#%%\n"
    }
   },
   "outputs": [
    {
     "output_type": "stream",
     "name": "stdout",
     "text": [
      "using: cuda\n"
     ]
    },
    {
     "output_type": "display_data",
     "data": {
      "text/plain": [
       "<IPython.core.display.HTML object>"
      ],
      "text/html": [
       "Finishing last run (ID:1k910slh) before initializing another..."
      ]
     },
     "metadata": {}
    },
    {
     "output_type": "display_data",
     "data": {
      "text/plain": [
       "<IPython.core.display.HTML object>"
      ],
      "text/html": [
       "Waiting for W&B process to finish... <strong style=\"color:green\">(success).</strong>"
      ]
     },
     "metadata": {}
    },
    {
     "output_type": "display_data",
     "data": {
      "text/plain": [
       "VBox(children=(Label(value='0.000 MB of 0.000 MB uploaded (0.000 MB deduped)\\r'), FloatProgress(value=1.0, max…"
      ],
      "application/vnd.jupyter.widget-view+json": {
       "version_major": 2,
       "version_minor": 0,
       "model_id": "2870c565c8554e359f28ee42d533f638"
      }
     },
     "metadata": {}
    },
    {
     "output_type": "display_data",
     "data": {
      "text/plain": [
       "<IPython.core.display.HTML object>"
      ],
      "text/html": [
       "<style>\n",
       "    table.wandb td:nth-child(1) { padding: 0 10px; text-align: left ; width: auto;} td:nth-child(2) {text-align: left ; width: 100%}\n",
       "    .wandb-row { display: flex; flex-direction: row; flex-wrap: wrap; justify-content: flex-start; width: 100% }\n",
       "    .wandb-col { display: flex; flex-direction: column; flex-basis: 100%; flex: 1; padding: 10px; }\n",
       "    </style>\n",
       "<div class=\"wandb-row\"><div class=\"wandb-col\"><h3>Run history:</h3><br/><table class=\"wandb\"><tr><td>loss</td><td>▇▅▅▄▆▃▄▃▅▃▂▃▂▂▂▂▂▂▁▂█▃▂▂▂▂▁▂▂▁▂▂▆▁▂▁▁▁▂▁</td></tr><tr><td>test_acc</td><td>▃▄▄▆▇███▇▁▇████▇██</td></tr><tr><td>train_acc</td><td>▁▄▄▆▇▇▇█▇▂▇████▇██</td></tr></table><br/></div><div class=\"wandb-col\"><h3>Run summary:</h3><br/><table class=\"wandb\"><tr><td>loss</td><td>0.0433</td></tr><tr><td>test_acc</td><td>85.36389</td></tr><tr><td>train_acc</td><td>96.06307</td></tr></table><br/></div></div>"
      ]
     },
     "metadata": {}
    },
    {
     "output_type": "display_data",
     "data": {
      "text/plain": [
       "<IPython.core.display.HTML object>"
      ],
      "text/html": [
       "Synced <strong style=\"color:#cdcd00\">winter-glade-34</strong>: <a href=\"https://wandb.ai/chrzanowski000/CNN_BloodCell_1/runs/1k910slh\" target=\"_blank\">https://wandb.ai/chrzanowski000/CNN_BloodCell_1/runs/1k910slh</a><br/>Synced 5 W&B file(s), 0 media file(s), 0 artifact file(s) and 0 other file(s)"
      ]
     },
     "metadata": {}
    },
    {
     "output_type": "display_data",
     "data": {
      "text/plain": [
       "<IPython.core.display.HTML object>"
      ],
      "text/html": [
       "Find logs at: <code>./wandb/run-20220926_162926-1k910slh/logs</code>"
      ]
     },
     "metadata": {}
    },
    {
     "output_type": "display_data",
     "data": {
      "text/plain": [
       "<IPython.core.display.HTML object>"
      ],
      "text/html": [
       "Successfully finished last run (ID:1k910slh). Initializing new run:<br/>"
      ]
     },
     "metadata": {}
    },
    {
     "output_type": "display_data",
     "data": {
      "text/plain": [
       "<IPython.core.display.HTML object>"
      ],
      "text/html": [
       "Tracking run with wandb version 0.13.3"
      ]
     },
     "metadata": {}
    },
    {
     "output_type": "display_data",
     "data": {
      "text/plain": [
       "<IPython.core.display.HTML object>"
      ],
      "text/html": [
       "Run data is saved locally in <code>/content/wandb/run-20220926_171114-3m881jnn</code>"
      ]
     },
     "metadata": {}
    },
    {
     "output_type": "display_data",
     "data": {
      "text/plain": [
       "<IPython.core.display.HTML object>"
      ],
      "text/html": [
       "Syncing run <strong><a href=\"https://wandb.ai/chrzanowski000/CNN_BloodCell_1/runs/3m881jnn\" target=\"_blank\">lunar-star-35</a></strong> to <a href=\"https://wandb.ai/chrzanowski000/CNN_BloodCell_1\" target=\"_blank\">Weights & Biases</a> (<a href=\"https://wandb.me/run\" target=\"_blank\">docs</a>)<br/>"
      ]
     },
     "metadata": {}
    },
    {
     "output_type": "stream",
     "name": "stderr",
     "text": [
      "100%|██████████| 2497/2497 [00:00<00:00, 545705.35it/s]\n",
      "100%|██████████| 2483/2483 [00:00<00:00, 471498.41it/s]\n",
      "100%|██████████| 2478/2478 [00:00<00:00, 998125.93it/s]\n",
      "100%|██████████| 2499/2499 [00:00<00:00, 1205470.47it/s]\n",
      "100%|██████████| 623/623 [00:00<00:00, 287685.94it/s]\n",
      "100%|██████████| 620/620 [00:00<00:00, 588874.20it/s]\n",
      "100%|██████████| 620/620 [00:00<00:00, 458717.32it/s]\n",
      "100%|██████████| 624/624 [00:00<00:00, 1094623.88it/s]\n"
     ]
    }
   ],
   "source": [
    "# Set device\n",
    "device = torch.device(\"cuda\" if torch.cuda.is_available() else \"cpu\")\n",
    "print(f'using: {device}')\n",
    "torch.backends.cudnn.benchmark = True #let cudnn chose most efficient way of calculating convulsions\n",
    "\n",
    "# Hyper-parameters\n",
    "in_channels = 3\n",
    "num_classes = 4\n",
    "learning_rate = 3e-4\n",
    "batch_size = 32\n",
    "num_epochs = 100\n",
    "weight_decay = 0.001\n",
    "\n",
    "#Connenting to wandb project to log data there\n",
    "import wandb\n",
    "wandb.init(project=\"CNN_BloodCell_1\")\n",
    "\n",
    "# Initialize network\n",
    "model = CNN(in_channels=in_channels, num_classes=num_classes)\n",
    "model.to(device)\n",
    "\n",
    "#transform_train = transforms.ToTensor()\n",
    "#transform_test = transforms.ToTensor() \n",
    "\n",
    "# define transformations for datasets, stds and means have been calculated before with cell above on dataloaders without normalization\n",
    "transform_train = transforms.Compose([transforms.ToTensor(),\n",
    "                                      transforms.Normalize([0.6605, 0.6413, 0.6786],\n",
    "                                                           [0.2612, 0.2636, 0.2644])])\n",
    "transform_test = transforms.Compose([transforms.ToTensor(),\n",
    "                                     transforms.Normalize([0.6610, 0.6406, 0.6795],\n",
    "                                                          [0.2606, 0.2623, 0.2636])])\n",
    "\n",
    "#initialize datasets and dataloaders\n",
    "dataset_train = BloodCell_train(transform=transform_train)\n",
    "dataset_test = BloodCell_test(transform=transform_test)\n",
    "\n",
    "# set shuffle = True to randomize order\n",
    "# To avoid blocking computation code with data loading we set num_workers = 2\n",
    "# pin_memory = True will automatically put the fetched data Tensors in pinned memory, and thus enables faster data transfer to CUDA-enabled GPUs.\n",
    "train_loader = DataLoader(dataset=dataset_train, batch_size=batch_size, shuffle=True, num_workers=2, pin_memory=True)\n",
    "test_loader = DataLoader(dataset=dataset_test, batch_size=batch_size, shuffle=True, num_workers=2, pin_memory=True)"
   ]
  },
  {
   "cell_type": "code",
   "source": [
    "#used to preview images loaded in model\n",
    "def imshow(img):\n",
    "    #plt.imshow(img)\n",
    "    npimg = img.numpy()[0]\n",
    "    print(npimg.mean())\n",
    "    plt.imshow(np.transpose(npimg, (1, 2, 0)), interpolation='nearest')\n",
    "# get some random training images\n",
    "dataiter = iter(train_loader)\n",
    "\n",
    "images, labels = dataiter.next()\n",
    "print(labels)\n",
    "imshow(images)"
   ],
   "metadata": {
    "colab": {
     "base_uri": "https://localhost:8080/",
     "height": 360
    },
    "id": "lDz1Vy7RR7mY",
    "outputId": "212de588-f42f-4c6e-fa76-494bb00041ee",
    "pycharm": {
     "name": "#%%\n"
    }
   },
   "execution_count": 66,
   "outputs": [
    {
     "output_type": "stream",
     "name": "stderr",
     "text": [
      "WARNING:matplotlib.image:Clipping input data to the valid range for imshow with RGB data ([0..1] for floats or [0..255] for integers).\n"
     ]
    },
    {
     "output_type": "stream",
     "name": "stdout",
     "text": [
      "tensor([1, 2, 3, 3, 1, 1, 3, 0, 0, 0, 2, 3, 2, 3, 3, 2, 3, 0, 3, 3, 1, 1, 2, 2,\n",
      "        1, 3, 1, 1, 0, 3, 2, 3])\n",
      "0.26807138\n"
     ]
    },
    {
     "output_type": "display_data",
     "data": {
      "text/plain": [
       "<Figure size 432x288 with 1 Axes>"
      ],
      "image/png": "[encoded data removed]"
     },
     "metadata": {
      "needs_background": "light"
     }
    }
   ]
  },
  {
   "cell_type": "code",
   "execution_count": 67,
   "metadata": {
    "colab": {
     "base_uri": "https://localhost:8080/"
    },
    "id": "60SNawqHevcG",
    "outputId": "af1941b2-a723-4c66-c2ee-b239a05ab399",
    "pycharm": {
     "name": "#%%\n"
    }
   },
   "outputs": [
    {
     "output_type": "stream",
     "name": "stdout",
     "text": [
      "Liczba trenowanych parametrów w modelu: 257 981 444\n"
     ]
    }
   ],
   "source": [
    "mode_par_num = sum(p.numel() for p in model.parameters() if p.requires_grad)\n",
    "\n",
    "print(\"Number of trained parameters in model: \" + '{:,}'.format(mode_par_num).replace(',', ' '))"
   ]
  },
  {
   "cell_type": "code",
   "source": [
    "# Check accuracy on training & test to see how good our model\n",
    "def check_accuracy(loader, model):\n",
    "    num_correct = 0\n",
    "    num_samples = 0\n",
    "    model.eval()\n",
    "\n",
    "    with torch.no_grad():\n",
    "        for x, y in tqdm(loader):\n",
    "            x = x.to(device=device)\n",
    "            y = y.to(device=device)\n",
    "\n",
    "            scores = model(x)\n",
    "            _, predictions = scores.max(1)\n",
    "            num_correct += (predictions == y).sum()\n",
    "            num_samples += predictions.size(0)\n",
    "\n",
    "    model.train()\n",
    "    return num_correct / num_samples"
   ],
   "metadata": {
    "id": "qBZBXfxrjtXE",
    "pycharm": {
     "name": "#%%\n"
    }
   },
   "execution_count": 68,
   "outputs": []
  },
  {
   "cell_type": "code",
   "execution_count": 71,
   "metadata": {
    "id": "DJ5CEXuZE2jG",
    "pycharm": {
     "name": "#%%\n"
    }
   },
   "outputs": [],
   "source": [
    "from datetime import datetime\n",
    "def save_model(test_acc):\n",
    "    dic_out = {'model_params': model.state_dict(), 'optimizer_params': optimizer.state_dict()}\n",
    "    df = pd.DataFrame.from_dict(dic_out)\n",
    "\n",
    "    # datetime object containing current date and time\n",
    "    now = datetime.now()\n",
    "    print(\"now =\", now)\n",
    "    dt_string = now.strftime(\"%d_%m_%Y__%H_%M_%S\")\n",
    "\n",
    "    # save model dict on Google drive with time signature\n",
    "    path = f'/content/drive/MyDrive/ML/CNN_BloodCell_{dt_string}_{test_acc}.csv'\n",
    "    df.to_csv(path, index = False, header=True)"
   ]
  },
  {
   "cell_type": "code",
   "execution_count": null,
   "metadata": {
    "colab": {
     "base_uri": "https://localhost:8080/"
    },
    "id": "sA7HZIVfBmWa",
    "outputId": "6d60e497-a23a-4773-ee3c-1bcaaaa7c0b5",
    "pycharm": {
     "name": "#%%\n"
    }
   },
   "outputs": [
    {
     "output_type": "stream",
     "name": "stdout",
     "text": [
      "epoch nr 0\n"
     ]
    },
    {
     "output_type": "stream",
     "name": "stderr",
     "text": [
      "100%|██████████| 312/312 [01:25<00:00,  3.65it/s]\n",
      "100%|██████████| 312/312 [00:33<00:00,  9.21it/s]\n",
      "100%|██████████| 78/78 [00:06<00:00, 11.41it/s]\n"
     ]
    },
    {
     "output_type": "stream",
     "name": "stdout",
     "text": [
      "now = 2022-09-26 17:13:48.755133\n",
      "model saved: train_acc:33.072208404541016, test_acc:31.845596313476562\n",
      "Accuracy on training set: 33.07\n",
      "Accuracy on test set: 31.85\n",
      "epoch nr 1\n"
     ]
    },
    {
     "output_type": "stream",
     "name": "stderr",
     "text": [
      "100%|██████████| 312/312 [01:33<00:00,  3.34it/s]\n",
      "100%|██████████| 312/312 [00:32<00:00,  9.52it/s]\n",
      "100%|██████████| 78/78 [00:06<00:00, 11.17it/s]\n"
     ]
    },
    {
     "output_type": "stream",
     "name": "stdout",
     "text": [
      "now = 2022-09-26 17:16:02.778590\n",
      "model saved: train_acc:48.679317474365234, test_acc:50.26136016845703\n",
      "Accuracy on training set: 48.68\n",
      "Accuracy on test set: 50.26\n",
      "epoch nr 2\n"
     ]
    },
    {
     "output_type": "stream",
     "name": "stderr",
     "text": [
      "100%|██████████| 312/312 [01:32<00:00,  3.37it/s]\n",
      "100%|██████████| 312/312 [00:33<00:00,  9.38it/s]\n",
      "100%|██████████| 78/78 [00:08<00:00,  9.29it/s]\n"
     ]
    },
    {
     "output_type": "stream",
     "name": "stdout",
     "text": [
      "now = 2022-09-26 17:18:17.734009\n",
      "model saved: train_acc:64.45716857910156, test_acc:69.64213562011719\n",
      "Accuracy on training set: 64.46\n",
      "Accuracy on test set: 69.64\n",
      "epoch nr 3\n"
     ]
    },
    {
     "output_type": "stream",
     "name": "stderr",
     "text": [
      "100%|██████████| 312/312 [01:32<00:00,  3.37it/s]\n",
      "100%|██████████| 312/312 [00:26<00:00, 11.63it/s]\n",
      "100%|██████████| 78/78 [00:13<00:00,  5.97it/s]\n"
     ]
    },
    {
     "output_type": "stream",
     "name": "stdout",
     "text": [
      "now = 2022-09-26 17:20:30.840691\n",
      "model saved: train_acc:79.59224700927734, test_acc:79.33252716064453\n",
      "Accuracy on training set: 79.59\n",
      "Accuracy on test set: 79.33\n",
      "epoch nr 4\n"
     ]
    },
    {
     "output_type": "stream",
     "name": "stderr",
     "text": [
      "100%|██████████| 312/312 [01:25<00:00,  3.64it/s]\n",
      "100%|██████████| 312/312 [00:33<00:00,  9.40it/s]\n",
      "100%|██████████| 78/78 [00:07<00:00, 11.11it/s]\n"
     ]
    },
    {
     "output_type": "stream",
     "name": "stdout",
     "text": [
      "now = 2022-09-26 17:22:37.318486\n",
      "model saved: train_acc:84.4531478881836, test_acc:79.6541976928711\n",
      "Accuracy on training set: 84.45\n",
      "Accuracy on test set: 79.65\n",
      "epoch nr 5\n"
     ]
    },
    {
     "output_type": "stream",
     "name": "stderr",
     "text": [
      "100%|██████████| 312/312 [01:32<00:00,  3.37it/s]\n",
      "100%|██████████| 312/312 [00:35<00:00,  8.91it/s]\n",
      "100%|██████████| 78/78 [00:07<00:00, 11.14it/s]\n"
     ]
    },
    {
     "output_type": "stream",
     "name": "stdout",
     "text": [
      "now = 2022-09-26 17:24:52.419890\n",
      "model saved: train_acc:88.08878326416016, test_acc:86.00724029541016\n",
      "Accuracy on training set: 88.09\n",
      "Accuracy on test set: 86.01\n",
      "epoch nr 6\n"
     ]
    },
    {
     "output_type": "stream",
     "name": "stderr",
     "text": [
      "100%|██████████| 312/312 [01:32<00:00,  3.37it/s]\n",
      "100%|██████████| 312/312 [00:32<00:00,  9.46it/s]\n",
      "100%|██████████| 78/78 [00:07<00:00, 11.08it/s]\n"
     ]
    },
    {
     "output_type": "stream",
     "name": "stdout",
     "text": [
      "Accuracy on training set: 80.36\n",
      "Accuracy on test set: 80.78\n",
      "epoch nr 7\n"
     ]
    },
    {
     "output_type": "stream",
     "name": "stderr",
     "text": [
      "100%|██████████| 312/312 [01:32<00:00,  3.36it/s]\n",
      "100%|██████████| 312/312 [00:27<00:00, 11.43it/s]\n",
      "100%|██████████| 78/78 [00:13<00:00,  5.94it/s]\n"
     ]
    },
    {
     "output_type": "stream",
     "name": "stdout",
     "text": [
      "now = 2022-09-26 17:29:18.902513\n",
      "model saved: train_acc:89.95681762695312, test_acc:87.4949722290039\n",
      "Accuracy on training set: 89.96\n",
      "Accuracy on test set: 87.49\n",
      "epoch nr 8\n"
     ]
    },
    {
     "output_type": "stream",
     "name": "stderr",
     "text": [
      "100%|██████████| 312/312 [01:26<00:00,  3.60it/s]\n",
      "100%|██████████| 312/312 [00:32<00:00,  9.59it/s]\n",
      "100%|██████████| 78/78 [00:07<00:00, 11.09it/s]\n"
     ]
    },
    {
     "output_type": "stream",
     "name": "stdout",
     "text": [
      "Accuracy on training set: 87.50\n",
      "Accuracy on test set: 78.33\n",
      "epoch nr 9\n"
     ]
    },
    {
     "output_type": "stream",
     "name": "stderr",
     "text": [
      "100%|██████████| 312/312 [01:31<00:00,  3.40it/s]\n",
      "100%|██████████| 312/312 [00:33<00:00,  9.36it/s]\n",
      "100%|██████████| 78/78 [00:06<00:00, 11.22it/s]\n"
     ]
    },
    {
     "output_type": "stream",
     "name": "stdout",
     "text": [
      "Accuracy on training set: 86.30\n",
      "Accuracy on test set: 81.14\n",
      "epoch nr 10\n"
     ]
    },
    {
     "output_type": "stream",
     "name": "stderr",
     "text": [
      "100%|██████████| 312/312 [01:32<00:00,  3.36it/s]\n",
      "100%|██████████| 312/312 [00:32<00:00,  9.47it/s]\n",
      "100%|██████████| 78/78 [00:06<00:00, 11.18it/s]\n"
     ]
    },
    {
     "output_type": "stream",
     "name": "stdout",
     "text": [
      "Accuracy on training set: 83.98\n",
      "Accuracy on test set: 80.34\n",
      "epoch nr 11\n"
     ]
    },
    {
     "output_type": "stream",
     "name": "stderr",
     "text": [
      "100%|██████████| 312/312 [01:32<00:00,  3.36it/s]\n",
      "100%|██████████| 312/312 [00:26<00:00, 11.61it/s]\n",
      "100%|██████████| 78/78 [00:13<00:00,  5.95it/s]\n"
     ]
    },
    {
     "output_type": "stream",
     "name": "stdout",
     "text": [
      "Accuracy on training set: 92.86\n",
      "Accuracy on test set: 85.77\n",
      "epoch nr 12\n"
     ]
    },
    {
     "output_type": "stream",
     "name": "stderr",
     "text": [
      "100%|██████████| 312/312 [01:26<00:00,  3.61it/s]\n",
      "100%|██████████| 312/312 [00:35<00:00,  8.83it/s]\n",
      "100%|██████████| 78/78 [00:07<00:00, 11.02it/s]\n"
     ]
    },
    {
     "output_type": "stream",
     "name": "stdout",
     "text": [
      "Accuracy on training set: 94.78\n",
      "Accuracy on test set: 84.52\n",
      "epoch nr 13\n"
     ]
    },
    {
     "output_type": "stream",
     "name": "stderr",
     "text": [
      "100%|██████████| 312/312 [01:31<00:00,  3.40it/s]\n",
      "100%|██████████| 312/312 [00:32<00:00,  9.47it/s]\n",
      "100%|██████████| 78/78 [00:06<00:00, 11.33it/s]\n"
     ]
    },
    {
     "output_type": "stream",
     "name": "stdout",
     "text": [
      "Accuracy on training set: 59.48\n",
      "Accuracy on test set: 60.64\n",
      "epoch nr 14\n"
     ]
    },
    {
     "output_type": "stream",
     "name": "stderr",
     "text": [
      "100%|██████████| 312/312 [01:32<00:00,  3.37it/s]\n",
      "100%|██████████| 312/312 [00:33<00:00,  9.36it/s]\n",
      "100%|██████████| 78/78 [00:06<00:00, 11.23it/s]\n"
     ]
    },
    {
     "output_type": "stream",
     "name": "stdout",
     "text": [
      "Accuracy on training set: 94.73\n",
      "Accuracy on test set: 85.73\n",
      "epoch nr 15\n"
     ]
    },
    {
     "output_type": "stream",
     "name": "stderr",
     "text": [
      "100%|██████████| 312/312 [01:32<00:00,  3.36it/s]\n",
      "100%|██████████| 312/312 [00:26<00:00, 11.56it/s]\n",
      "100%|██████████| 78/78 [00:13<00:00,  5.96it/s]\n"
     ]
    },
    {
     "output_type": "stream",
     "name": "stdout",
     "text": [
      "Accuracy on training set: 95.28\n",
      "Accuracy on test set: 86.57\n",
      "epoch nr 16\n"
     ]
    },
    {
     "output_type": "stream",
     "name": "stderr",
     "text": [
      "100%|██████████| 312/312 [01:26<00:00,  3.61it/s]\n",
      "100%|██████████| 312/312 [00:34<00:00,  8.96it/s]\n",
      "100%|██████████| 78/78 [00:06<00:00, 11.21it/s]\n"
     ]
    },
    {
     "output_type": "stream",
     "name": "stdout",
     "text": [
      "Accuracy on training set: 92.15\n",
      "Accuracy on test set: 87.37\n",
      "epoch nr 17\n"
     ]
    },
    {
     "output_type": "stream",
     "name": "stderr",
     "text": [
      "100%|██████████| 312/312 [01:32<00:00,  3.37it/s]\n",
      "100%|██████████| 312/312 [00:33<00:00,  9.37it/s]\n",
      "100%|██████████| 78/78 [00:07<00:00, 11.11it/s]\n"
     ]
    },
    {
     "output_type": "stream",
     "name": "stdout",
     "text": [
      "Accuracy on training set: 94.25\n",
      "Accuracy on test set: 85.97\n",
      "epoch nr 18\n"
     ]
    },
    {
     "output_type": "stream",
     "name": "stderr",
     "text": [
      "100%|██████████| 312/312 [01:31<00:00,  3.39it/s]\n",
      "100%|██████████| 312/312 [00:33<00:00,  9.37it/s]\n",
      "100%|██████████| 78/78 [00:07<00:00, 11.09it/s]\n"
     ]
    },
    {
     "output_type": "stream",
     "name": "stdout",
     "text": [
      "Accuracy on training set: 95.85\n",
      "Accuracy on test set: 86.81\n",
      "epoch nr 19\n"
     ]
    },
    {
     "output_type": "stream",
     "name": "stderr",
     "text": [
      "100%|██████████| 312/312 [01:33<00:00,  3.34it/s]\n",
      "100%|██████████| 312/312 [00:26<00:00, 11.58it/s]\n",
      "100%|██████████| 78/78 [00:13<00:00,  5.95it/s]\n"
     ]
    },
    {
     "output_type": "stream",
     "name": "stdout",
     "text": [
      "Accuracy on training set: 97.66\n",
      "Accuracy on test set: 83.88\n",
      "epoch nr 20\n"
     ]
    },
    {
     "output_type": "stream",
     "name": "stderr",
     "text": [
      "100%|██████████| 312/312 [01:26<00:00,  3.61it/s]\n",
      "100%|██████████| 312/312 [00:35<00:00,  8.86it/s]\n",
      "100%|██████████| 78/78 [00:07<00:00, 11.00it/s]\n"
     ]
    },
    {
     "output_type": "stream",
     "name": "stdout",
     "text": [
      "Accuracy on training set: 97.43\n",
      "Accuracy on test set: 86.13\n",
      "epoch nr 21\n"
     ]
    },
    {
     "output_type": "stream",
     "name": "stderr",
     "text": [
      "100%|██████████| 312/312 [01:32<00:00,  3.37it/s]\n",
      "100%|██████████| 312/312 [00:33<00:00,  9.40it/s]\n",
      "100%|██████████| 78/78 [00:07<00:00, 11.12it/s]\n"
     ]
    },
    {
     "output_type": "stream",
     "name": "stdout",
     "text": [
      "Accuracy on training set: 93.51\n",
      "Accuracy on test set: 81.87\n",
      "epoch nr 22\n"
     ]
    },
    {
     "output_type": "stream",
     "name": "stderr",
     "text": [
      "100%|██████████| 312/312 [01:31<00:00,  3.40it/s]\n",
      "100%|██████████| 312/312 [00:33<00:00,  9.28it/s]\n",
      "100%|██████████| 78/78 [00:07<00:00, 10.92it/s]\n"
     ]
    },
    {
     "output_type": "stream",
     "name": "stdout",
     "text": [
      "Accuracy on training set: 97.49\n",
      "Accuracy on test set: 85.32\n",
      "epoch nr 23\n"
     ]
    },
    {
     "output_type": "stream",
     "name": "stderr",
     "text": [
      "100%|██████████| 312/312 [01:32<00:00,  3.36it/s]\n",
      "100%|██████████| 312/312 [00:27<00:00, 11.22it/s]\n",
      "100%|██████████| 78/78 [00:13<00:00,  5.89it/s]\n"
     ]
    },
    {
     "output_type": "stream",
     "name": "stdout",
     "text": [
      "Accuracy on training set: 97.36\n",
      "Accuracy on test set: 86.25\n",
      "epoch nr 24\n"
     ]
    },
    {
     "output_type": "stream",
     "name": "stderr",
     "text": [
      "100%|██████████| 312/312 [01:26<00:00,  3.61it/s]\n",
      "100%|██████████| 312/312 [00:35<00:00,  8.88it/s]\n",
      "100%|██████████| 78/78 [00:07<00:00, 10.92it/s]\n"
     ]
    },
    {
     "output_type": "stream",
     "name": "stdout",
     "text": [
      "Accuracy on training set: 97.56\n",
      "Accuracy on test set: 85.81\n",
      "epoch nr 25\n"
     ]
    },
    {
     "output_type": "stream",
     "name": "stderr",
     "text": [
      "100%|██████████| 312/312 [01:32<00:00,  3.36it/s]\n",
      "100%|██████████| 312/312 [00:33<00:00,  9.27it/s]\n",
      "100%|██████████| 78/78 [00:07<00:00, 11.09it/s]\n"
     ]
    },
    {
     "output_type": "stream",
     "name": "stdout",
     "text": [
      "Accuracy on training set: 99.00\n",
      "Accuracy on test set: 86.81\n",
      "epoch nr 26\n"
     ]
    },
    {
     "output_type": "stream",
     "name": "stderr",
     "text": [
      "100%|██████████| 312/312 [01:32<00:00,  3.36it/s]\n",
      "100%|██████████| 312/312 [00:33<00:00,  9.34it/s]\n",
      "100%|██████████| 78/78 [00:07<00:00, 11.01it/s]\n"
     ]
    },
    {
     "output_type": "stream",
     "name": "stdout",
     "text": [
      "Accuracy on training set: 98.53\n",
      "Accuracy on test set: 85.81\n",
      "epoch nr 27\n"
     ]
    },
    {
     "output_type": "stream",
     "name": "stderr",
     "text": [
      "100%|██████████| 312/312 [01:31<00:00,  3.39it/s]\n",
      "100%|██████████| 312/312 [00:27<00:00, 11.47it/s]\n",
      "100%|██████████| 78/78 [00:13<00:00,  5.90it/s]\n"
     ]
    },
    {
     "output_type": "stream",
     "name": "stdout",
     "text": [
      "Accuracy on training set: 99.26\n",
      "Accuracy on test set: 86.97\n",
      "epoch nr 28\n"
     ]
    },
    {
     "output_type": "stream",
     "name": "stderr",
     "text": [
      "100%|██████████| 312/312 [01:26<00:00,  3.61it/s]\n",
      "100%|██████████| 312/312 [00:35<00:00,  8.87it/s]\n",
      "100%|██████████| 78/78 [00:07<00:00, 10.84it/s]\n"
     ]
    },
    {
     "output_type": "stream",
     "name": "stdout",
     "text": [
      "Accuracy on training set: 98.28\n",
      "Accuracy on test set: 84.56\n",
      "epoch nr 29\n"
     ]
    },
    {
     "output_type": "stream",
     "name": "stderr",
     "text": [
      "100%|██████████| 312/312 [01:32<00:00,  3.37it/s]\n",
      "100%|██████████| 312/312 [00:33<00:00,  9.35it/s]\n",
      "100%|██████████| 78/78 [00:08<00:00,  8.67it/s]\n"
     ]
    },
    {
     "output_type": "stream",
     "name": "stdout",
     "text": [
      "Accuracy on training set: 97.69\n",
      "Accuracy on test set: 86.65\n",
      "epoch nr 30\n"
     ]
    },
    {
     "output_type": "stream",
     "name": "stderr",
     "text": [
      "100%|██████████| 312/312 [01:32<00:00,  3.36it/s]\n",
      "100%|██████████| 312/312 [00:33<00:00,  9.35it/s]\n",
      "100%|██████████| 78/78 [00:07<00:00, 11.05it/s]\n"
     ]
    },
    {
     "output_type": "stream",
     "name": "stdout",
     "text": [
      "Accuracy on training set: 98.63\n",
      "Accuracy on test set: 84.48\n",
      "epoch nr 31\n"
     ]
    },
    {
     "output_type": "stream",
     "name": "stderr",
     "text": [
      "100%|██████████| 312/312 [01:33<00:00,  3.35it/s]\n",
      "100%|██████████| 312/312 [00:27<00:00, 11.41it/s]\n",
      "100%|██████████| 78/78 [00:13<00:00,  5.83it/s]\n"
     ]
    },
    {
     "output_type": "stream",
     "name": "stdout",
     "text": [
      "Accuracy on training set: 98.99\n",
      "Accuracy on test set: 87.17\n",
      "epoch nr 32\n"
     ]
    },
    {
     "output_type": "stream",
     "name": "stderr",
     "text": [
      "100%|██████████| 312/312 [01:26<00:00,  3.59it/s]\n",
      "100%|██████████| 312/312 [00:33<00:00,  9.32it/s]\n",
      "100%|██████████| 78/78 [00:07<00:00, 10.94it/s]\n"
     ]
    },
    {
     "output_type": "stream",
     "name": "stdout",
     "text": [
      "Accuracy on training set: 99.51\n",
      "Accuracy on test set: 87.05\n",
      "epoch nr 33\n"
     ]
    },
    {
     "output_type": "stream",
     "name": "stderr",
     "text": [
      "100%|██████████| 312/312 [01:32<00:00,  3.36it/s]\n",
      "100%|██████████| 312/312 [00:35<00:00,  8.84it/s]\n",
      "100%|██████████| 78/78 [00:07<00:00, 11.14it/s]\n"
     ]
    },
    {
     "output_type": "stream",
     "name": "stdout",
     "text": [
      "Accuracy on training set: 98.52\n",
      "Accuracy on test set: 87.29\n",
      "epoch nr 34\n"
     ]
    },
    {
     "output_type": "stream",
     "name": "stderr",
     "text": [
      "100%|██████████| 312/312 [01:32<00:00,  3.36it/s]\n",
      "100%|██████████| 312/312 [00:34<00:00,  9.14it/s]\n",
      "100%|██████████| 78/78 [00:07<00:00, 11.06it/s]\n"
     ]
    },
    {
     "output_type": "stream",
     "name": "stdout",
     "text": [
      "Accuracy on training set: 99.45\n",
      "Accuracy on test set: 86.37\n",
      "epoch nr 35\n"
     ]
    },
    {
     "output_type": "stream",
     "name": "stderr",
     "text": [
      "100%|██████████| 312/312 [01:32<00:00,  3.36it/s]\n",
      "100%|██████████| 312/312 [00:27<00:00, 11.39it/s]\n",
      "100%|██████████| 78/78 [00:13<00:00,  5.89it/s]\n"
     ]
    },
    {
     "output_type": "stream",
     "name": "stdout",
     "text": [
      "Accuracy on training set: 99.51\n",
      "Accuracy on test set: 87.09\n",
      "epoch nr 36\n"
     ]
    },
    {
     "output_type": "stream",
     "name": "stderr",
     "text": [
      "100%|██████████| 312/312 [01:25<00:00,  3.64it/s]\n",
      "100%|██████████| 312/312 [00:33<00:00,  9.28it/s]\n",
      "100%|██████████| 78/78 [00:07<00:00, 11.00it/s]\n"
     ]
    },
    {
     "output_type": "stream",
     "name": "stdout",
     "text": [
      "Accuracy on training set: 97.34\n",
      "Accuracy on test set: 86.29\n",
      "epoch nr 37\n"
     ]
    },
    {
     "output_type": "stream",
     "name": "stderr",
     "text": [
      "100%|██████████| 312/312 [01:32<00:00,  3.36it/s]\n",
      "100%|██████████| 312/312 [00:34<00:00,  9.02it/s]\n",
      "100%|██████████| 78/78 [00:07<00:00, 11.11it/s]\n"
     ]
    },
    {
     "output_type": "stream",
     "name": "stdout",
     "text": [
      "Accuracy on training set: 98.46\n",
      "Accuracy on test set: 86.77\n",
      "epoch nr 38\n"
     ]
    },
    {
     "output_type": "stream",
     "name": "stderr",
     "text": [
      " 39%|███▉      | 123/312 [00:33<00:51,  3.66it/s]"
     ]
    }
   ],
   "source": [
    "# Loss and optimizer\n",
    "criterion = nn.CrossEntropyLoss()\n",
    "optimizer = optim.Adam(model.parameters(), lr=learning_rate, weight_decay=weight_decay)\n",
    "start_time = time.time()\n",
    "# Optional\n",
    "wandb.watch(model, criterion, log=\"all\", log_freq=400)\n",
    "train_acc_best = 0\n",
    "test_acc_best = 0\n",
    "# Train Network\n",
    "for epoch in range(num_epochs):\n",
    "    print(f'epoch nr {epoch}')\n",
    "    for data, targets in tqdm(train_loader):\n",
    "        # Get data to device\n",
    "        data = data.to(device=device)\n",
    "        targets = targets.to(device=device)\n",
    "\n",
    "\n",
    "        # setting parameteres gradients to None, takes less memory than setting to '0'\n",
    "        for param in model.parameters():\n",
    "            param.grad = None\n",
    "\n",
    "        # forward and loss calculation\n",
    "        scores=model(data)\n",
    "        loss = criterion(scores, targets)\n",
    "        # log loss to wandb\n",
    "        wandb.log({\"loss\": loss})\n",
    "\n",
    "        # backward\n",
    "        loss.backward()\n",
    "\n",
    "        # gradient descent or adam step\n",
    "        optimizer.step()\n",
    "    \n",
    "    # Calculate Accuracy and save model if test acc increased\n",
    "    train_acc = check_accuracy(train_loader, model)*100\n",
    "    test_acc = check_accuracy(test_loader, model)*100\n",
    "    if test_acc > test_acc_best:\n",
    "        save_model(test_acc)\n",
    "        test_acc_best = test_acc\n",
    "        train_acc_best = train_acc\n",
    "        print(f'model saved: train_acc:{train_acc_best}, test_acc:{test_acc_best}')\n",
    "\n",
    "    # log train_acc and test_acc to wandb\n",
    "    wandb.log({\"train_acc\": train_acc})\n",
    "    wandb.log({\"test_acc\": test_acc})\n",
    "    print(f\"Accuracy on training set: {train_acc:.2f}\")    \n",
    "    print(f\"Accuracy on test set: {test_acc:.2f}\")\n",
    "\n",
    "    #print('cached CUDA memory: ',torch.cuda.memory_cached())\n",
    "print(\"--- %s seconds ---\" % (time.time() - start_time))\n",
    "torch.cuda.empty_cache()\n",
    "print(f\"Highest accuracy on training set: {train_acc_best}\")\n",
    "print(f\"Highest accuracy on test set: {test_acc_best}\")"
   ]
  }
 ],
 "metadata": {
  "accelerator": "GPU",
  "colab": {
   "collapsed_sections": [],
   "provenance": []
  },
  "gpuClass": "standard",
  "kernelspec": {
   "display_name": "Python 3",
   "name": "python3"
  },
  "language_info": {
   "name": "python"
  },
  "widgets": {
   "application/vnd.jupyter.widget-state+json": {
    "2870c565c8554e359f28ee42d533f638": {
     "model_module": "@jupyter-widgets/controls",
     "model_name": "VBoxModel",
     "model_module_version": "1.5.0",
     "state": {
      "_dom_classes": [],
      "_model_module": "@jupyter-widgets/controls",
      "_model_module_version": "1.5.0",
      "_model_name": "VBoxModel",
      "_view_count": null,
      "_view_module": "@jupyter-widgets/controls",
      "_view_module_version": "1.5.0",
      "_view_name": "VBoxView",
      "box_style": "",
      "children": [
       "IPY_MODEL_550333706bb24cc0bd94e8fb25da3f96",
       "IPY_MODEL_06918c57cfc9455f857453d1eaa62460"
      ],
      "layout": "IPY_MODEL_8e5608f60cc0448b96453490980e7ed3"
     }
    },
    "550333706bb24cc0bd94e8fb25da3f96": {
     "model_module": "@jupyter-widgets/controls",
     "model_name": "LabelModel",
     "model_module_version": "1.5.0",
     "state": {
      "_dom_classes": [],
      "_model_module": "@jupyter-widgets/controls",
      "_model_module_version": "1.5.0",
      "_model_name": "LabelModel",
      "_view_count": null,
      "_view_module": "@jupyter-widgets/controls",
      "_view_module_version": "1.5.0",
      "_view_name": "LabelView",
      "description": "",
      "description_tooltip": null,
      "layout": "IPY_MODEL_7c63ffa1a88c44d398ee41d48d7a3d60",
      "placeholder": "​",
      "style": "IPY_MODEL_926910e2cdad4e8287eb296418df1244",
      "value": "0.119 MB of 0.119 MB uploaded (0.000 MB deduped)\r"
     }
    },
    "06918c57cfc9455f857453d1eaa62460": {
     "model_module": "@jupyter-widgets/controls",
     "model_name": "FloatProgressModel",
     "model_module_version": "1.5.0",
     "state": {
      "_dom_classes": [],
      "_model_module": "@jupyter-widgets/controls",
      "_model_module_version": "1.5.0",
      "_model_name": "FloatProgressModel",
      "_view_count": null,
      "_view_module": "@jupyter-widgets/controls",
      "_view_module_version": "1.5.0",
      "_view_name": "ProgressView",
      "bar_style": "",
      "description": "",
      "description_tooltip": null,
      "layout": "IPY_MODEL_074e3d452cb747fda3ac0bae0f3dd691",
      "max": 1,
      "min": 0,
      "orientation": "horizontal",
      "style": "IPY_MODEL_cbd978504c434b7eb4bcf59050c6af14",
      "value": 1
     }
    },
    "8e5608f60cc0448b96453490980e7ed3": {
     "model_module": "@jupyter-widgets/base",
     "model_name": "LayoutModel",
     "model_module_version": "1.2.0",
     "state": {
      "_model_module": "@jupyter-widgets/base",
      "_model_module_version": "1.2.0",
      "_model_name": "LayoutModel",
      "_view_count": null,
      "_view_module": "@jupyter-widgets/base",
      "_view_module_version": "1.2.0",
      "_view_name": "LayoutView",
      "align_content": null,
      "align_items": null,
      "align_self": null,
      "border": null,
      "bottom": null,
      "display": null,
      "flex": null,
      "flex_flow": null,
      "grid_area": null,
      "grid_auto_columns": null,
      "grid_auto_flow": null,
      "grid_auto_rows": null,
      "grid_column": null,
      "grid_gap": null,
      "grid_row": null,
      "grid_template_areas": null,
      "grid_template_columns": null,
      "grid_template_rows": null,
      "height": null,
      "justify_content": null,
      "justify_items": null,
      "left": null,
      "margin": null,
      "max_height": null,
      "max_width": null,
      "min_height": null,
      "min_width": null,
      "object_fit": null,
      "object_position": null,
      "order": null,
      "overflow": null,
      "overflow_x": null,
      "overflow_y": null,
      "padding": null,
      "right": null,
      "top": null,
      "visibility": null,
      "width": null
     }
    },
    "7c63ffa1a88c44d398ee41d48d7a3d60": {
     "model_module": "@jupyter-widgets/base",
     "model_name": "LayoutModel",
     "model_module_version": "1.2.0",
     "state": {
      "_model_module": "@jupyter-widgets/base",
      "_model_module_version": "1.2.0",
      "_model_name": "LayoutModel",
      "_view_count": null,
      "_view_module": "@jupyter-widgets/base",
      "_view_module_version": "1.2.0",
      "_view_name": "LayoutView",
      "align_content": null,
      "align_items": null,
      "align_self": null,
      "border": null,
      "bottom": null,
      "display": null,
      "flex": null,
      "flex_flow": null,
      "grid_area": null,
      "grid_auto_columns": null,
      "grid_auto_flow": null,
      "grid_auto_rows": null,
      "grid_column": null,
      "grid_gap": null,
      "grid_row": null,
      "grid_template_areas": null,
      "grid_template_columns": null,
      "grid_template_rows": null,
      "height": null,
      "justify_content": null,
      "justify_items": null,
      "left": null,
      "margin": null,
      "max_height": null,
      "max_width": null,
      "min_height": null,
      "min_width": null,
      "object_fit": null,
      "object_position": null,
      "order": null,
      "overflow": null,
      "overflow_x": null,
      "overflow_y": null,
      "padding": null,
      "right": null,
      "top": null,
      "visibility": null,
      "width": null
     }
    },
    "926910e2cdad4e8287eb296418df1244": {
     "model_module": "@jupyter-widgets/controls",
     "model_name": "DescriptionStyleModel",
     "model_module_version": "1.5.0",
     "state": {
      "_model_module": "@jupyter-widgets/controls",
      "_model_module_version": "1.5.0",
      "_model_name": "DescriptionStyleModel",
      "_view_count": null,
      "_view_module": "@jupyter-widgets/base",
      "_view_module_version": "1.2.0",
      "_view_name": "StyleView",
      "description_width": ""
     }
    },
    "074e3d452cb747fda3ac0bae0f3dd691": {
     "model_module": "@jupyter-widgets/base",
     "model_name": "LayoutModel",
     "model_module_version": "1.2.0",
     "state": {
      "_model_module": "@jupyter-widgets/base",
      "_model_module_version": "1.2.0",
      "_model_name": "LayoutModel",
      "_view_count": null,
      "_view_module": "@jupyter-widgets/base",
      "_view_module_version": "1.2.0",
      "_view_name": "LayoutView",
      "align_content": null,
      "align_items": null,
      "align_self": null,
      "border": null,
      "bottom": null,
      "display": null,
      "flex": null,
      "flex_flow": null,
      "grid_area": null,
      "grid_auto_columns": null,
      "grid_auto_flow": null,
      "grid_auto_rows": null,
      "grid_column": null,
      "grid_gap": null,
      "grid_row": null,
      "grid_template_areas": null,
      "grid_template_columns": null,
      "grid_template_rows": null,
      "height": null,
      "justify_content": null,
      "justify_items": null,
      "left": null,
      "margin": null,
      "max_height": null,
      "max_width": null,
      "min_height": null,
      "min_width": null,
      "object_fit": null,
      "object_position": null,
      "order": null,
      "overflow": null,
      "overflow_x": null,
      "overflow_y": null,
      "padding": null,
      "right": null,
      "top": null,
      "visibility": null,
      "width": null
     }
    },
    "cbd978504c434b7eb4bcf59050c6af14": {
     "model_module": "@jupyter-widgets/controls",
     "model_name": "ProgressStyleModel",
     "model_module_version": "1.5.0",
     "state": {
      "_model_module": "@jupyter-widgets/controls",
      "_model_module_version": "1.5.0",
      "_model_name": "ProgressStyleModel",
      "_view_count": null,
      "_view_module": "@jupyter-widgets/base",
      "_view_module_version": "1.2.0",
      "_view_name": "StyleView",
      "bar_color": null,
      "description_width": ""
     }
    }
   }
  }
 },
 "nbformat": 4,
 "nbformat_minor": 0
}
